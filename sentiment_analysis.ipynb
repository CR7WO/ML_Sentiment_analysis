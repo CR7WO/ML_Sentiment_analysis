{
 "cells": [
  {
   "cell_type": "code",
   "execution_count": 1,
   "metadata": {},
   "outputs": [],
   "source": [
    "from ML_utils import ML_utils\n",
    "import numpy as np\n",
    "import os\n",
    "import torch\n",
    "import torch.nn as nn\n",
    "import torch.optim as optim\n",
    "import torch.utils.data as data\n",
    "import matplotlib.pyplot as plt"
   ]
  },
  {
   "cell_type": "code",
   "execution_count": 2,
   "metadata": {},
   "outputs": [],
   "source": [
    "dir_path = r'D:\\Backup\\ml_data\\GitHub\\ML_Sentiment_analysis\\Dataset'\n",
    "x = np.load(os.path.join(dir_path,'vec_x_neg2000_pos2000.npy'))\n",
    "y = np.load(os.path.join(dir_path,'vec_y_neg2000_pos2000.npy'))"
   ]
  },
  {
   "cell_type": "code",
   "execution_count": 3,
   "metadata": {},
   "outputs": [],
   "source": [
    "x_train = np.concatenate((x[:1200],x[2000:3200]))\n",
    "y_train = np.concatenate((y[:1200],y[2000:3200]))\n",
    "x_test = np.concatenate((x[1200:2000],x[3200:4000]))\n",
    "y_test = np.concatenate((y[1200:2000],y[3200:4000]))\n",
    "del x,y"
   ]
  },
  {
   "cell_type": "code",
   "execution_count": 4,
   "metadata": {},
   "outputs": [],
   "source": [
    "class Dataset(data.Dataset):\n",
    "    def __init__(self,x,y,transform=None,target_transform=None):\n",
    "#         self.transform = transform\n",
    "#         self.target_transform = target_transform\n",
    "        self.data_X = x\n",
    "        self.data_Y = y\n",
    "        \n",
    "    def __getitem__(self, index):\n",
    "        X = self.data_X[index]\n",
    "        Y = self.data_Y[index]\n",
    "#         if self.transform != None:\n",
    "#             X = self.transform(X)\n",
    "#         if self.target_transform != None:\n",
    "#             Y = self.transform(Y)\n",
    "        return X, Y\n",
    "                \n",
    "    def __len__(self):\n",
    "        return len(self.data_X)"
   ]
  },
  {
   "cell_type": "code",
   "execution_count": 5,
   "metadata": {},
   "outputs": [],
   "source": [
    "batch_size = 400\n",
    "train_data = Dataset(x_train,y_train)\n",
    "trainloader = torch.utils.data.DataLoader(train_data, batch_size = batch_size ,shuffle=False, num_workers=0)\n",
    "test_data = Dataset(x_train,y_train)\n",
    "testloader = torch.utils.data.DataLoader(test_data, batch_size = batch_size ,shuffle=False, num_workers=0)\n",
    "del train_data,test_data,x_train,y_train,x_test,y_test"
   ]
  },
  {
   "cell_type": "code",
   "execution_count": 6,
   "metadata": {},
   "outputs": [],
   "source": [
    "seq_len = 60\n",
    "input_size = 300\n",
    "rnn_hidden_size = 100\n",
    "rnn_num_layers = 2\n",
    "output_size = 2\n",
    "hidden_size = seq_len*rnn_hidden_size\n",
    "\n",
    "class LSTM_model(nn.Module):\n",
    "    def __init__(self, ):\n",
    "        super(LSTM_model, self).__init__()\n",
    "        self.lstm0 = nn.LSTM(\n",
    "            input_size=input_size,\n",
    "            hidden_size=rnn_hidden_size,\n",
    "            num_layers=rnn_num_layers,\n",
    "            batch_first=True)\n",
    "        self.linear = nn.Linear(hidden_size, hidden_size)\n",
    "        self.linear0 = nn.Linear(hidden_size, hidden_size)\n",
    "        self.linear1 = nn.Linear(hidden_size, hidden_size)\n",
    "        self.linear2 = nn.Linear(hidden_size, output_size)\n",
    "        for name,p in self.named_parameters():\n",
    "            if (name.find('rnn') == 0):\n",
    "                nn.init.normal_(p, mean=0.0, std=0.001)\n",
    "            elif (name.find('linear') == 0) and (name.find('weight') == 0):        \n",
    "                nn.init.xavier_normal_(p)\n",
    "    def forward(self, x, h0,c0):\n",
    "        # [b, seq, h]\n",
    "        out, (h0_,c0_) = self.lstm0(x, (h0,c0))\n",
    "        out = out.reshape(-1,hidden_size)\n",
    "        out = self.linear(out)\n",
    "        out = nn.functional.relu(out)\n",
    "        out = self.linear0(out)\n",
    "        out = nn.functional.relu(out)\n",
    "        out = self.linear1(out)\n",
    "        out = self.linear2(out)\n",
    "        return out, (h0_,c0_)"
   ]
  },
  {
   "cell_type": "code",
   "execution_count": 7,
   "metadata": {},
   "outputs": [
    {
     "data": {
      "text/plain": [
       "LSTM_model(\n",
       "  (lstm0): LSTM(300, 100, num_layers=2, batch_first=True)\n",
       "  (linear): Linear(in_features=6000, out_features=6000, bias=True)\n",
       "  (linear0): Linear(in_features=6000, out_features=6000, bias=True)\n",
       "  (linear1): Linear(in_features=6000, out_features=6000, bias=True)\n",
       "  (linear2): Linear(in_features=6000, out_features=2, bias=True)\n",
       ")"
      ]
     },
     "execution_count": 7,
     "metadata": {},
     "output_type": "execute_result"
    }
   ],
   "source": [
    "#[rnn_layer,b,hidden_size]\n",
    "h0 = torch.zeros(rnn_num_layers, batch_size, rnn_hidden_size,device='cuda:0')\n",
    "c0 =  torch.zeros(rnn_num_layers, batch_size, rnn_hidden_size,device='cuda:0')\n",
    "model = LSTM_model()\n",
    "model.cuda('cuda:0')"
   ]
  },
  {
   "cell_type": "code",
   "execution_count": 8,
   "metadata": {},
   "outputs": [],
   "source": [
    "device = torch.device(\"cuda:0\" if torch.cuda.is_available() else \"cpu\")\n",
    "dtype = torch.float32"
   ]
  },
  {
   "cell_type": "code",
   "execution_count": 9,
   "metadata": {},
   "outputs": [],
   "source": [
    "model.train()\n",
    "lr = 0.00001\n",
    "criterion = nn.MSELoss()\n",
    "optimizer = optim.Adam(model.parameters(), lr)"
   ]
  },
  {
   "cell_type": "code",
   "execution_count": 10,
   "metadata": {},
   "outputs": [],
   "source": [
    "def train():\n",
    "    global h0\n",
    "    global c0\n",
    "    trainloss_list = []\n",
    "    testloss_list = []\n",
    "    for epoch in range(100):\n",
    "        data_iter = iter(trainloader)\n",
    "        for batch in data_iter:\n",
    "            x = batch[0].to(device=device,dtype=dtype)\n",
    "            y = batch[1].to(device=device,dtype=dtype)\n",
    "            output,(h0_,c0_) = model(x, h0, c0)\n",
    "            h0 = h0_.detach()\n",
    "            c0 = c0_.detach()\n",
    "            loss = criterion(output, y)\n",
    "            model.zero_grad()\n",
    "            loss.backward()\n",
    "    #         for p in model.parameters():\n",
    "    #             torch.nn.utils.clip_grad_norm_(p, 10)\n",
    "            optimizer.step()\n",
    "    #     print(\"Iteration: {} loss {}\".format(epoch+1, loss.item()))\n",
    "    #     loss_list.append(loss.item())\n",
    "        if (epoch+1) % 10 == 0:\n",
    "            print(\"Iteration: {} Train.loss {}\".format(epoch+1, loss.detach()))\n",
    "            trainloss_list.append(loss.item())\n",
    "        data_iter = iter(testloader)\n",
    "        for batch in data_iter:\n",
    "            x = batch[0].to(device=device,dtype=dtype)\n",
    "            y = batch[1].to(device=device,dtype=dtype)\n",
    "            output,(h0_,c0_) = model(x, h0, c0)\n",
    "            h0 = h0_.detach()\n",
    "            c0 = c0_.detach()\n",
    "            loss = criterion(output, y)\n",
    "            model.zero_grad()\n",
    "            loss.backward()\n",
    "    #         for p in model.parameters():\n",
    "    #             torch.nn.utils.clip_grad_norm_(p, 10)\n",
    "            optimizer.step()\n",
    "    #     print(\"Iteration: {} loss {}\".format(epoch+1, loss.item()))\n",
    "    #     loss_list.append(loss.item())\n",
    "        if (epoch+1) % 10 == 0:\n",
    "            print(\"Iteration: {} Test.loss {}\".format(epoch+1, loss.detach()))\n",
    "            testloss_list.append(loss.item())\n",
    "    return trainloss_list,testloss_list"
   ]
  },
  {
   "cell_type": "code",
   "execution_count": 12,
   "metadata": {},
   "outputs": [
    {
     "name": "stdout",
     "output_type": "stream",
     "text": [
      "Iteration: 10 Train.loss 0.0003532852861098945\n",
      "Iteration: 10 Test.loss 0.0003260502708144486\n",
      "Iteration: 20 Train.loss 0.00010574048064881936\n",
      "Iteration: 20 Test.loss 9.851196955423802e-05\n",
      "Iteration: 30 Train.loss 5.497113670571707e-05\n",
      "Iteration: 30 Test.loss 5.48661409993656e-05\n",
      "Iteration: 40 Train.loss 4.651402196031995e-05\n",
      "Iteration: 40 Test.loss 4.4520995288621634e-05\n",
      "Iteration: 50 Train.loss 0.00014236793504096568\n",
      "Iteration: 50 Test.loss 9.199175838148221e-05\n",
      "Iteration: 60 Train.loss 4.87589422846213e-05\n",
      "Iteration: 60 Test.loss 5.926219455432147e-05\n",
      "Iteration: 70 Train.loss 2.703171776374802e-05\n",
      "Iteration: 70 Test.loss 3.1474050047108904e-05\n",
      "Iteration: 80 Train.loss 2.2994914615992457e-05\n",
      "Iteration: 80 Test.loss 2.492782732588239e-05\n",
      "Iteration: 90 Train.loss 0.0001885712699731812\n",
      "Iteration: 90 Test.loss 0.0001400523615302518\n",
      "Iteration: 100 Train.loss 0.0002716230519581586\n",
      "Iteration: 100 Test.loss 0.00012039399007335305\n"
     ]
    },
    {
     "data": {
      "image/png": "[encoded data removed]",
      "text/plain": [
       "<Figure size 432x288 with 1 Axes>"
      ]
     },
     "metadata": {
      "needs_background": "light"
     },
     "output_type": "display_data"
    }
   ],
   "source": [
    "trainloss_list,testloss_list = train()\n",
    "plt.plot(trainloss_list)\n",
    "plt.plot(testloss_list)\n",
    "plt.show()"
   ]
  },
  {
   "cell_type": "code",
   "execution_count": null,
   "metadata": {},
   "outputs": [],
   "source": []
  },
  {
   "cell_type": "code",
   "execution_count": 13,
   "metadata": {},
   "outputs": [],
   "source": [
    "import re\n",
    "from gensim.models import word2vec\n",
    "import logging\n",
    "import jieba\n",
    "\n",
    "class predict_config():\n",
    "    def __init__(self,h0,c0,word_vec_path):\n",
    "        self.word_vec_model = word2vec.Word2Vec.load(word_vec_path)\n",
    "        self.pre_h0 = h0.clone().detach()\n",
    "        self.pre_c0 = c0.clone().detach()\n",
    "        self.padding = np.zeros((1,300),dtype=np.float32)\n",
    "\n",
    "def jieba_string(chat):\n",
    "    logging.basicConfig(format='%(asctime)s : %(levelname)s : %(message)s', level=logging.INFO)\n",
    "    logging.disable(50)\n",
    "    output = []\n",
    "    # jieba custom setting.\n",
    "    jieba.set_dictionary('jieba_dict/dict.txt.big')\n",
    "    # load stopwords set\n",
    "    #將停用詞每row分別加進集合\n",
    "    stopword_set = set()\n",
    "    #設置停用詞讀取路徑\n",
    "    with open('jieba_dict/robot_stop_1.txt','r', encoding='utf-8') as stopwords:\n",
    "        for stopword in stopwords:\n",
    "            stopword_set.add(stopword.strip('\\n'))   #移除頭尾換行 strip('\\n')\n",
    "    chat = chat.strip('\\n')\n",
    "    words = jieba.cut(chat, cut_all=False,HMM=True)    #進行斷詞\n",
    "    for word in words:\n",
    "        #依每個詞判斷是否為停用詞(不是就寫入)\n",
    "        if word not in stopword_set:\n",
    "            output.append(word)\n",
    "    return output\n",
    "\n",
    "def chat(chat,config):\n",
    "    jieba_list = jieba_string(chat)\n",
    "    if len(jieba_list) > seq_len:\n",
    "        jieba_list = jieba_list[:seq_len]\n",
    "    if len(jieba_list) < seq_len:\n",
    "        for num in range(seq_len-len(jieba_list)):\n",
    "            jieba_list.append(0)\n",
    "    vec_array = np.zeros((1,300),dtype=np.float32)\n",
    "    for word in jieba_list:\n",
    "        if word == 0:\n",
    "            vec = config.padding\n",
    "            vec_array = np.concatenate((vec_array,vec),axis=0)\n",
    "        else:\n",
    "            try:\n",
    "                vec = np.array(config.word_vec_model.wv.get_vector(word),np.float32).reshape(1,300)\n",
    "                vec_array = np.concatenate((vec_array,vec),axis=0)\n",
    "            except KeyError:\n",
    "                vec = config.padding\n",
    "                vec_array = np.concatenate((vec_array,vec),axis=0)\n",
    "    X = vec_array[1:].reshape(1,-1,300)\n",
    "    X = torch.tensor(X)\n",
    "    return X\n",
    "\n",
    "def input_to_predict(chat_input,config):\n",
    "    x = chat(chat_input,config)\n",
    "    x = x.to(device=device,dtype=dtype)\n",
    "    output,(h0_,c0_)= model(x, config.pre_h0[:,:len(x),:].clone(), config.pre_c0[:,:len(x),:].clone())\n",
    "#     config.pre_h0 = h0_.detach()\n",
    "#     config.pre_c0 = c0_.detach()\n",
    "    predict = torch.argmax(output)\n",
    "    print(chat_input)\n",
    "    if predict == 0:\n",
    "        print('Bad!!')\n",
    "    if predict == 1:\n",
    "        print('Good!!')\n",
    "    return output"
   ]
  },
  {
   "cell_type": "code",
   "execution_count": 14,
   "metadata": {},
   "outputs": [],
   "source": [
    "word_vec_path = r'D:\\Backup\\ml_data\\GitHub\\ML_Sentiment_analysis\\word2vec_model\\word2vec_model'\n",
    "config = predict_config(h0,c0,word_vec_path)"
   ]
  },
  {
   "cell_type": "code",
   "execution_count": 15,
   "metadata": {},
   "outputs": [
    {
     "name": "stdout",
     "output_type": "stream",
     "text": [
      "test:\n",
      "很親切\n",
      "Good!!\n",
      "非常不錯\n",
      "Good!!\n",
      "好棒!\n",
      "Good!!\n",
      "服務很糟糕...，但整體來說還不錯。\n",
      "Bad!!\n",
      "房間還不錯，但服務很差。\n",
      "Bad!!\n",
      "東西很便宜，店員很親切。\n",
      "Good!!\n",
      "出貨慢，態度差。\n",
      "Bad!!\n",
      "出貨慢\n",
      "Bad!!\n"
     ]
    },
    {
     "data": {
      "text/plain": [
       "tensor([[0.8902, 0.0970]], device='cuda:0', grad_fn=<AddmmBackward>)"
      ]
     },
     "execution_count": 15,
     "metadata": {},
     "output_type": "execute_result"
    }
   ],
   "source": [
    "print('test:')\n",
    "input_to_predict('很親切',config)\n",
    "input_to_predict('非常不錯',config)\n",
    "input_to_predict('好棒!',config)\n",
    "input_to_predict('服務很糟糕...，但整體來說還不錯。',config)\n",
    "input_to_predict('房間還不錯，但服務很差。',config)\n",
    "input_to_predict('東西很便宜，店員很親切。',config)\n",
    "input_to_predict('出貨慢，態度差。',config)\n",
    "input_to_predict('出貨慢',config)"
   ]
  },
  {
   "cell_type": "code",
   "execution_count": null,
   "metadata": {},
   "outputs": [
    {
     "name": "stdout",
     "output_type": "stream",
     "text": [
      "輸入評論：爛\n",
      "爛\n",
      "Bad!!\n",
      "輸入評論：不錯\n",
      "不錯\n",
      "Good!!\n",
      "輸入評論：好棒棒\n",
      "好棒棒\n",
      "Good!!\n",
      "輸入評論：好棒\n",
      "好棒\n",
      "Good!!\n",
      "輸入評論：水果好ㄘ\n",
      "水果好ㄘ\n",
      "Good!!\n",
      "輸入評論：品質還可以，服務也一般，但出貨快。\n",
      "品質還可以，服務也一般，但出貨快。\n",
      "Good!!\n",
      "輸入評論：這遊戲好玩\n",
      "這遊戲好玩\n",
      "Good!!\n",
      "輸入評論：以後不會再買\n",
      "以後不會再買\n",
      "Bad!!\n",
      "輸入評論：以後一定再買\n",
      "以後一定再買\n",
      "Good!!\n"
     ]
    }
   ],
   "source": [
    "while True:\n",
    "    input_chat = input('輸入評論：')\n",
    "    input_to_predict(input_chat,config)"
   ]
  },
  {
   "cell_type": "code",
   "execution_count": null,
   "metadata": {},
   "outputs": [],
   "source": []
  }
 ],
 "metadata": {
  "kernelspec": {
   "display_name": "Python 3",
   "language": "python",
   "name": "python3"
  },
  "language_info": {
   "codemirror_mode": {
    "name": "ipython",
    "version": 3
   },
   "file_extension": ".py",
   "mimetype": "text/x-python",
   "name": "python",
   "nbconvert_exporter": "python",
   "pygments_lexer": "ipython3",
   "version": "3.6.8"
  }
 },
 "nbformat": 4,
 "nbformat_minor": 2
}

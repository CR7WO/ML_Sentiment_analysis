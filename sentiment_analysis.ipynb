{
 "cells": [
  {
   "cell_type": "code",
   "execution_count": 1,
   "metadata": {},
   "outputs": [],
   "source": [
    "from ML_utils import ML_utils\n",
    "import numpy as np\n",
    "import os\n",
    "import torch\n",
    "import torch.nn as nn\n",
    "import torch.optim as optim\n",
    "import torch.utils.data as data\n",
    "import matplotlib.pyplot as plt"
   ]
  },
  {
   "cell_type": "code",
   "execution_count": 2,
   "metadata": {},
   "outputs": [],
   "source": [
    "dir_path = r'D:\\Backup\\ml_data\\GitHub\\ML_Sentiment_analysis\\Dataset'\n",
    "x = np.load(os.path.join(dir_path,'vec_x_neg1000_pos1000.npy'))\n",
    "y = np.load(os.path.join(dir_path,'vec_y_neg1000_pos1000.npy'))"
   ]
  },
  {
   "cell_type": "code",
   "execution_count": 3,
   "metadata": {},
   "outputs": [],
   "source": [
    "x_train = np.concatenate((x[:500],x[1000:1500]))\n",
    "y_train = np.concatenate((y[:500],y[1000:1500]))\n",
    "x_test = np.concatenate((x[500:1000],x[1500:2000]))\n",
    "y_test = np.concatenate((y[500:1000],y[1500:2000]))\n",
    "del x,y"
   ]
  },
  {
   "cell_type": "code",
   "execution_count": 4,
   "metadata": {},
   "outputs": [],
   "source": [
    "class Dataset(data.Dataset):\n",
    "    def __init__(self,x,y,transform=None,target_transform=None):\n",
    "#         self.transform = transform\n",
    "#         self.target_transform = target_transform\n",
    "        self.data_X = x\n",
    "        self.data_Y = y\n",
    "        \n",
    "    def __getitem__(self, index):\n",
    "        X = self.data_X[index]\n",
    "        Y = self.data_Y[index]\n",
    "#         if self.transform != None:\n",
    "#             X = self.transform(X)\n",
    "#         if self.target_transform != None:\n",
    "#             Y = self.transform(Y)\n",
    "        return X, Y\n",
    "                \n",
    "    def __len__(self):\n",
    "        return len(self.data_X)"
   ]
  },
  {
   "cell_type": "code",
   "execution_count": 5,
   "metadata": {},
   "outputs": [],
   "source": [
    "batch_size = 250\n",
    "train_data = Dataset(x_train,y_train)\n",
    "trainloader = torch.utils.data.DataLoader(train_data, batch_size = batch_size ,shuffle=True, num_workers=0)\n",
    "test_data = Dataset(x_train,y_train)\n",
    "testloader = torch.utils.data.DataLoader(test_data, batch_size = batch_size ,shuffle=True, num_workers=0)\n",
    "del train_data,test_data,x_train,y_train,x_test,y_test"
   ]
  },
  {
   "cell_type": "code",
   "execution_count": 6,
   "metadata": {},
   "outputs": [],
   "source": [
    "seq_len = 60\n",
    "input_size = 300\n",
    "rnn_hidden_size = 100\n",
    "rnn_num_layers = 2\n",
    "output_size = 2\n",
    "hidden_size = seq_len*rnn_hidden_size\n",
    "\n",
    "class LSTM_model(nn.Module):\n",
    "    def __init__(self, ):\n",
    "        super(LSTM_model, self).__init__()\n",
    "        self.lstm0 = nn.LSTM(\n",
    "            input_size=input_size,\n",
    "            hidden_size=rnn_hidden_size,\n",
    "            num_layers=rnn_num_layers,\n",
    "            batch_first=True)\n",
    "        self.linear = nn.Linear(hidden_size, hidden_size)\n",
    "        self.linear1 = nn.Linear(hidden_size, output_size)\n",
    "        for name,p in self.named_parameters():\n",
    "            if (name.find('rnn') == 0):\n",
    "                nn.init.normal_(p, mean=0.0, std=0.001)\n",
    "            elif (name.find('linear') == 0) and (name.find('weight') == 0):        \n",
    "                nn.init.xavier_normal_(p)\n",
    "    def forward(self, x, h0,c0):\n",
    "        # [b, seq, h]\n",
    "        out, (h0_,c0_) = self.lstm0(x, (h0,c0))\n",
    "        out = out.reshape(-1,hidden_size)\n",
    "        out = self.linear(out)\n",
    "        out = self.linear1(out)\n",
    "        return out, (h0_,c0_)"
   ]
  },
  {
   "cell_type": "code",
   "execution_count": 7,
   "metadata": {},
   "outputs": [
    {
     "data": {
      "text/plain": [
       "LSTM_model(\n",
       "  (lstm0): LSTM(300, 100, num_layers=2, batch_first=True)\n",
       "  (linear): Linear(in_features=6000, out_features=6000, bias=True)\n",
       "  (linear1): Linear(in_features=6000, out_features=2, bias=True)\n",
       ")"
      ]
     },
     "execution_count": 7,
     "metadata": {},
     "output_type": "execute_result"
    }
   ],
   "source": [
    "#[rnn_layer,b,hidden_size]\n",
    "h0 = torch.zeros(rnn_num_layers, batch_size, rnn_hidden_size,device='cuda:0')\n",
    "c0 =  torch.zeros(rnn_num_layers, batch_size, rnn_hidden_size,device='cuda:0')\n",
    "model = LSTM_model()\n",
    "model.cuda('cuda:0')"
   ]
  },
  {
   "cell_type": "code",
   "execution_count": 8,
   "metadata": {},
   "outputs": [],
   "source": [
    "device = torch.device(\"cuda:0\" if torch.cuda.is_available() else \"cpu\")\n",
    "dtype = torch.float32"
   ]
  },
  {
   "cell_type": "code",
   "execution_count": 9,
   "metadata": {},
   "outputs": [],
   "source": [
    "model.train()\n",
    "lr = 0.0001\n",
    "criterion = nn.MSELoss()\n",
    "optimizer = optim.Adam(model.parameters(), lr)"
   ]
  },
  {
   "cell_type": "code",
   "execution_count": 19,
   "metadata": {},
   "outputs": [],
   "source": [
    "def train():\n",
    "    global h0\n",
    "    global c0\n",
    "    trainloss_list = []\n",
    "    testloss_list = []\n",
    "    for epoch in range(100):\n",
    "        data_iter = iter(trainloader)\n",
    "        for batch in data_iter:\n",
    "            x = batch[0].to(device=device,dtype=dtype)\n",
    "            y = batch[1].to(device=device,dtype=dtype)\n",
    "            output,(h0_,c0_) = model(x, h0, c0)\n",
    "            h0 = h0_.detach()\n",
    "            c0 = c0_.detach()\n",
    "            loss = criterion(output, y)\n",
    "            model.zero_grad()\n",
    "            loss.backward()\n",
    "    #         for p in model.parameters():\n",
    "    #             torch.nn.utils.clip_grad_norm_(p, 10)\n",
    "            optimizer.step()\n",
    "    #     print(\"Iteration: {} loss {}\".format(epoch+1, loss.item()))\n",
    "    #     loss_list.append(loss.item())\n",
    "        if (epoch+1) % 10 == 0:\n",
    "            print(\"Iteration: {} Train.loss {}\".format(epoch+1, loss.detach()))\n",
    "            trainloss_list.append(loss.item())\n",
    "        data_iter = iter(testloader)\n",
    "        for batch in data_iter:\n",
    "            x = batch[0].to(device=device,dtype=dtype)\n",
    "            y = batch[1].to(device=device,dtype=dtype)\n",
    "            output,(h0_,c0_) = model(x, h0, c0)\n",
    "            h0 = h0_.detach()\n",
    "            c0 = c0_.detach()\n",
    "            loss = criterion(output, y)\n",
    "            model.zero_grad()\n",
    "            loss.backward()\n",
    "    #         for p in model.parameters():\n",
    "    #             torch.nn.utils.clip_grad_norm_(p, 10)\n",
    "            optimizer.step()\n",
    "    #     print(\"Iteration: {} loss {}\".format(epoch+1, loss.item()))\n",
    "    #     loss_list.append(loss.item())\n",
    "        if (epoch+1) % 10 == 0:\n",
    "            print(\"Iteration: {} Test.loss {}\".format(epoch+1, loss.detach()))\n",
    "            testloss_list.append(loss.item())\n",
    "    return trainloss_list,testloss_list"
   ]
  },
  {
   "cell_type": "code",
   "execution_count": 20,
   "metadata": {},
   "outputs": [
    {
     "name": "stdout",
     "output_type": "stream",
     "text": [
      "Iteration: 10 Train.loss 0.00012838936527259648\n",
      "Iteration: 10 Test.loss 0.00022636620269622654\n",
      "Iteration: 20 Train.loss 0.00022419077868107706\n",
      "Iteration: 20 Test.loss 0.0003721181128639728\n",
      "Iteration: 30 Train.loss 4.154094131081365e-05\n",
      "Iteration: 30 Test.loss 5.805319960927591e-05\n",
      "Iteration: 40 Train.loss 0.00017225235933437943\n",
      "Iteration: 40 Test.loss 0.00023895493359304965\n"
     ]
    },
    {
     "ename": "KeyboardInterrupt",
     "evalue": "",
     "output_type": "error",
     "traceback": [
      "\u001b[1;31m---------------------------------------------------------------------------\u001b[0m",
      "\u001b[1;31mKeyboardInterrupt\u001b[0m                         Traceback (most recent call last)",
      "\u001b[1;32m<ipython-input-20-3c864c5c3d8d>\u001b[0m in \u001b[0;36m<module>\u001b[1;34m\u001b[0m\n\u001b[1;32m----> 1\u001b[1;33m \u001b[0mtrainloss_list\u001b[0m\u001b[1;33m,\u001b[0m\u001b[0mtestloss_list\u001b[0m \u001b[1;33m=\u001b[0m \u001b[0mtrain\u001b[0m\u001b[1;33m(\u001b[0m\u001b[1;33m)\u001b[0m\u001b[1;33m\u001b[0m\u001b[1;33m\u001b[0m\u001b[0m\n\u001b[0m\u001b[0;32m      2\u001b[0m \u001b[0mplt\u001b[0m\u001b[1;33m.\u001b[0m\u001b[0mplot\u001b[0m\u001b[1;33m(\u001b[0m\u001b[0mtrainloss_list\u001b[0m\u001b[1;33m)\u001b[0m\u001b[1;33m\u001b[0m\u001b[1;33m\u001b[0m\u001b[0m\n\u001b[0;32m      3\u001b[0m \u001b[0mplt\u001b[0m\u001b[1;33m.\u001b[0m\u001b[0mplot\u001b[0m\u001b[1;33m(\u001b[0m\u001b[0mtestloss_list\u001b[0m\u001b[1;33m)\u001b[0m\u001b[1;33m\u001b[0m\u001b[1;33m\u001b[0m\u001b[0m\n\u001b[0;32m      4\u001b[0m \u001b[0mplt\u001b[0m\u001b[1;33m.\u001b[0m\u001b[0mshow\u001b[0m\u001b[1;33m(\u001b[0m\u001b[1;33m)\u001b[0m\u001b[1;33m\u001b[0m\u001b[1;33m\u001b[0m\u001b[0m\n",
      "\u001b[1;32m<ipython-input-19-9d951c2bb8a3>\u001b[0m in \u001b[0;36mtrain\u001b[1;34m()\u001b[0m\n\u001b[0;32m     12\u001b[0m             \u001b[0mh0\u001b[0m \u001b[1;33m=\u001b[0m \u001b[0mh0_\u001b[0m\u001b[1;33m.\u001b[0m\u001b[0mdetach\u001b[0m\u001b[1;33m(\u001b[0m\u001b[1;33m)\u001b[0m\u001b[1;33m\u001b[0m\u001b[1;33m\u001b[0m\u001b[0m\n\u001b[0;32m     13\u001b[0m             \u001b[0mc0\u001b[0m \u001b[1;33m=\u001b[0m \u001b[0mc0_\u001b[0m\u001b[1;33m.\u001b[0m\u001b[0mdetach\u001b[0m\u001b[1;33m(\u001b[0m\u001b[1;33m)\u001b[0m\u001b[1;33m\u001b[0m\u001b[1;33m\u001b[0m\u001b[0m\n\u001b[1;32m---> 14\u001b[1;33m             \u001b[0mloss\u001b[0m \u001b[1;33m=\u001b[0m \u001b[0mcriterion\u001b[0m\u001b[1;33m(\u001b[0m\u001b[0moutput\u001b[0m\u001b[1;33m,\u001b[0m \u001b[0my\u001b[0m\u001b[1;33m)\u001b[0m\u001b[1;33m\u001b[0m\u001b[1;33m\u001b[0m\u001b[0m\n\u001b[0m\u001b[0;32m     15\u001b[0m             \u001b[0mmodel\u001b[0m\u001b[1;33m.\u001b[0m\u001b[0mzero_grad\u001b[0m\u001b[1;33m(\u001b[0m\u001b[1;33m)\u001b[0m\u001b[1;33m\u001b[0m\u001b[1;33m\u001b[0m\u001b[0m\n\u001b[0;32m     16\u001b[0m             \u001b[0mloss\u001b[0m\u001b[1;33m.\u001b[0m\u001b[0mbackward\u001b[0m\u001b[1;33m(\u001b[0m\u001b[1;33m)\u001b[0m\u001b[1;33m\u001b[0m\u001b[1;33m\u001b[0m\u001b[0m\n",
      "\u001b[1;32m~\\AppData\\Local\\conda\\conda\\envs\\torch1\\lib\\site-packages\\torch\\nn\\modules\\module.py\u001b[0m in \u001b[0;36m__call__\u001b[1;34m(self, *input, **kwargs)\u001b[0m\n\u001b[0;32m    487\u001b[0m             \u001b[0mresult\u001b[0m \u001b[1;33m=\u001b[0m \u001b[0mself\u001b[0m\u001b[1;33m.\u001b[0m\u001b[0m_slow_forward\u001b[0m\u001b[1;33m(\u001b[0m\u001b[1;33m*\u001b[0m\u001b[0minput\u001b[0m\u001b[1;33m,\u001b[0m \u001b[1;33m**\u001b[0m\u001b[0mkwargs\u001b[0m\u001b[1;33m)\u001b[0m\u001b[1;33m\u001b[0m\u001b[1;33m\u001b[0m\u001b[0m\n\u001b[0;32m    488\u001b[0m         \u001b[1;32melse\u001b[0m\u001b[1;33m:\u001b[0m\u001b[1;33m\u001b[0m\u001b[1;33m\u001b[0m\u001b[0m\n\u001b[1;32m--> 489\u001b[1;33m             \u001b[0mresult\u001b[0m \u001b[1;33m=\u001b[0m \u001b[0mself\u001b[0m\u001b[1;33m.\u001b[0m\u001b[0mforward\u001b[0m\u001b[1;33m(\u001b[0m\u001b[1;33m*\u001b[0m\u001b[0minput\u001b[0m\u001b[1;33m,\u001b[0m \u001b[1;33m**\u001b[0m\u001b[0mkwargs\u001b[0m\u001b[1;33m)\u001b[0m\u001b[1;33m\u001b[0m\u001b[1;33m\u001b[0m\u001b[0m\n\u001b[0m\u001b[0;32m    490\u001b[0m         \u001b[1;32mfor\u001b[0m \u001b[0mhook\u001b[0m \u001b[1;32min\u001b[0m \u001b[0mself\u001b[0m\u001b[1;33m.\u001b[0m\u001b[0m_forward_hooks\u001b[0m\u001b[1;33m.\u001b[0m\u001b[0mvalues\u001b[0m\u001b[1;33m(\u001b[0m\u001b[1;33m)\u001b[0m\u001b[1;33m:\u001b[0m\u001b[1;33m\u001b[0m\u001b[1;33m\u001b[0m\u001b[0m\n\u001b[0;32m    491\u001b[0m             \u001b[0mhook_result\u001b[0m \u001b[1;33m=\u001b[0m \u001b[0mhook\u001b[0m\u001b[1;33m(\u001b[0m\u001b[0mself\u001b[0m\u001b[1;33m,\u001b[0m \u001b[0minput\u001b[0m\u001b[1;33m,\u001b[0m \u001b[0mresult\u001b[0m\u001b[1;33m)\u001b[0m\u001b[1;33m\u001b[0m\u001b[1;33m\u001b[0m\u001b[0m\n",
      "\u001b[1;32m~\\AppData\\Local\\conda\\conda\\envs\\torch1\\lib\\site-packages\\torch\\nn\\modules\\loss.py\u001b[0m in \u001b[0;36mforward\u001b[1;34m(self, input, target)\u001b[0m\n\u001b[0;32m    433\u001b[0m     \u001b[1;33m@\u001b[0m\u001b[0mweak_script_method\u001b[0m\u001b[1;33m\u001b[0m\u001b[1;33m\u001b[0m\u001b[0m\n\u001b[0;32m    434\u001b[0m     \u001b[1;32mdef\u001b[0m \u001b[0mforward\u001b[0m\u001b[1;33m(\u001b[0m\u001b[0mself\u001b[0m\u001b[1;33m,\u001b[0m \u001b[0minput\u001b[0m\u001b[1;33m,\u001b[0m \u001b[0mtarget\u001b[0m\u001b[1;33m)\u001b[0m\u001b[1;33m:\u001b[0m\u001b[1;33m\u001b[0m\u001b[1;33m\u001b[0m\u001b[0m\n\u001b[1;32m--> 435\u001b[1;33m         \u001b[1;32mreturn\u001b[0m \u001b[0mF\u001b[0m\u001b[1;33m.\u001b[0m\u001b[0mmse_loss\u001b[0m\u001b[1;33m(\u001b[0m\u001b[0minput\u001b[0m\u001b[1;33m,\u001b[0m \u001b[0mtarget\u001b[0m\u001b[1;33m,\u001b[0m \u001b[0mreduction\u001b[0m\u001b[1;33m=\u001b[0m\u001b[0mself\u001b[0m\u001b[1;33m.\u001b[0m\u001b[0mreduction\u001b[0m\u001b[1;33m)\u001b[0m\u001b[1;33m\u001b[0m\u001b[1;33m\u001b[0m\u001b[0m\n\u001b[0m\u001b[0;32m    436\u001b[0m \u001b[1;33m\u001b[0m\u001b[0m\n\u001b[0;32m    437\u001b[0m \u001b[1;33m\u001b[0m\u001b[0m\n",
      "\u001b[1;32m~\\AppData\\Local\\conda\\conda\\envs\\torch1\\lib\\site-packages\\torch\\nn\\functional.py\u001b[0m in \u001b[0;36mmse_loss\u001b[1;34m(input, target, size_average, reduce, reduction)\u001b[0m\n\u001b[0;32m   2154\u001b[0m     \u001b[1;32melse\u001b[0m\u001b[1;33m:\u001b[0m\u001b[1;33m\u001b[0m\u001b[1;33m\u001b[0m\u001b[0m\n\u001b[0;32m   2155\u001b[0m         \u001b[0mexpanded_input\u001b[0m\u001b[1;33m,\u001b[0m \u001b[0mexpanded_target\u001b[0m \u001b[1;33m=\u001b[0m \u001b[0mtorch\u001b[0m\u001b[1;33m.\u001b[0m\u001b[0mbroadcast_tensors\u001b[0m\u001b[1;33m(\u001b[0m\u001b[0minput\u001b[0m\u001b[1;33m,\u001b[0m \u001b[0mtarget\u001b[0m\u001b[1;33m)\u001b[0m\u001b[1;33m\u001b[0m\u001b[1;33m\u001b[0m\u001b[0m\n\u001b[1;32m-> 2156\u001b[1;33m         \u001b[0mret\u001b[0m \u001b[1;33m=\u001b[0m \u001b[0mtorch\u001b[0m\u001b[1;33m.\u001b[0m\u001b[0m_C\u001b[0m\u001b[1;33m.\u001b[0m\u001b[0m_nn\u001b[0m\u001b[1;33m.\u001b[0m\u001b[0mmse_loss\u001b[0m\u001b[1;33m(\u001b[0m\u001b[0mexpanded_input\u001b[0m\u001b[1;33m,\u001b[0m \u001b[0mexpanded_target\u001b[0m\u001b[1;33m,\u001b[0m \u001b[0m_Reduction\u001b[0m\u001b[1;33m.\u001b[0m\u001b[0mget_enum\u001b[0m\u001b[1;33m(\u001b[0m\u001b[0mreduction\u001b[0m\u001b[1;33m)\u001b[0m\u001b[1;33m)\u001b[0m\u001b[1;33m\u001b[0m\u001b[1;33m\u001b[0m\u001b[0m\n\u001b[0m\u001b[0;32m   2157\u001b[0m     \u001b[1;32mreturn\u001b[0m \u001b[0mret\u001b[0m\u001b[1;33m\u001b[0m\u001b[1;33m\u001b[0m\u001b[0m\n\u001b[0;32m   2158\u001b[0m \u001b[1;33m\u001b[0m\u001b[0m\n",
      "\u001b[1;31mKeyboardInterrupt\u001b[0m: "
     ]
    }
   ],
   "source": [
    "trainloss_list,testloss_list = train()\n",
    "plt.plot(trainloss_list)\n",
    "plt.plot(testloss_list)\n",
    "plt.show()"
   ]
  },
  {
   "cell_type": "code",
   "execution_count": null,
   "metadata": {},
   "outputs": [],
   "source": []
  },
  {
   "cell_type": "code",
   "execution_count": 25,
   "metadata": {},
   "outputs": [],
   "source": [
    "import re\n",
    "import logging\n",
    "import jieba\n",
    "\n",
    "pre_h0 = h0.clone().detach()\n",
    "pre_c0 = c0.clone().detach()\n",
    "word_vec_model = word_vec_model\n",
    "padding = padding\n",
    "\n",
    "def jieba_string(chat):\n",
    "    logging.basicConfig(format='%(asctime)s : %(levelname)s : %(message)s', level=logging.INFO)\n",
    "    logging.disable(50)\n",
    "    output = []\n",
    "    # jieba custom setting.\n",
    "    jieba.set_dictionary('jieba_dict/dict.txt.big')\n",
    "    # load stopwords set\n",
    "    #將停用詞每row分別加進集合\n",
    "    stopword_set = set()\n",
    "    #設置停用詞讀取路徑\n",
    "    with open('jieba_dict/robot_stop_1.txt','r', encoding='utf-8') as stopwords:\n",
    "        for stopword in stopwords:\n",
    "            stopword_set.add(stopword.strip('\\n'))   #移除頭尾換行 strip('\\n')\n",
    "    chat = chat.strip('\\n')\n",
    "    words = jieba.cut(chat, cut_all=False,HMM=True)    #進行斷詞\n",
    "    for word in words:\n",
    "        #依每個詞判斷是否為停用詞(不是就寫入)\n",
    "        if word not in stopword_set:\n",
    "            output.append(word)\n",
    "    return output\n",
    "\n",
    "def chat(chat):\n",
    "    jieba_list = jieba_string(chat)\n",
    "    if len(jieba_list) > seq_len:\n",
    "        jieba_list = jieba_list[:seq_len]\n",
    "    if len(jieba_list) < seq_len:\n",
    "        for num in range(seq_len-len(jieba_list)):\n",
    "            jieba_list.append(0)\n",
    "    vec_array = np.zeros((1,300),dtype=np.float32)\n",
    "    for word in jieba_list:\n",
    "        if word == 0:\n",
    "            vec = padding\n",
    "            vec_array = np.concatenate((vec_array,vec),axis=0)\n",
    "        else:\n",
    "            try:\n",
    "                vec = np.array(word_vec_model.wv.get_vector(word),np.float32).reshape(1,300)\n",
    "                vec_array = np.concatenate((vec_array,vec),axis=0)\n",
    "            except KeyError:\n",
    "                vec = padding\n",
    "                vec_array = np.concatenate((vec_array,vec),axis=0)\n",
    "    X = vec_array[1:].reshape(1,-1,300)\n",
    "    X = torch.tensor(X)\n",
    "    return X\n",
    "\n",
    "def input_to_robot(chat_input):\n",
    "    x = chat(chat_input)\n",
    "    x = x.to(device=device,dtype=dtype)\n",
    "    output,(h0_,c0_)= model(x, pre_h0[:,:len(x),:].clone(), pre_c0[:,:len(x),:].clone())\n",
    "#         pre_h0 = h0_.detach()\n",
    "#         pre_c0 = c0_.detach()\n",
    "    return output"
   ]
  },
  {
   "cell_type": "code",
   "execution_count": 1,
   "metadata": {},
   "outputs": [
    {
     "ename": "NameError",
     "evalue": "name 'np' is not defined",
     "output_type": "error",
     "traceback": [
      "\u001b[1;31m---------------------------------------------------------------------------\u001b[0m",
      "\u001b[1;31mNameError\u001b[0m                                 Traceback (most recent call last)",
      "\u001b[1;32m<ipython-input-1-49ac13e555f8>\u001b[0m in \u001b[0;36m<module>\u001b[1;34m\u001b[0m\n\u001b[0;32m      1\u001b[0m \u001b[1;32mfrom\u001b[0m \u001b[0mgensim\u001b[0m\u001b[1;33m.\u001b[0m\u001b[0mmodels\u001b[0m \u001b[1;32mimport\u001b[0m \u001b[0mword2vec\u001b[0m\u001b[1;33m\u001b[0m\u001b[1;33m\u001b[0m\u001b[0m\n\u001b[0;32m      2\u001b[0m \u001b[1;32mimport\u001b[0m \u001b[0mlogging\u001b[0m\u001b[1;33m\u001b[0m\u001b[1;33m\u001b[0m\u001b[0m\n\u001b[1;32m----> 3\u001b[1;33m \u001b[0mpadding\u001b[0m \u001b[1;33m=\u001b[0m \u001b[0mnp\u001b[0m\u001b[1;33m.\u001b[0m\u001b[0mzeros\u001b[0m\u001b[1;33m(\u001b[0m\u001b[1;33m(\u001b[0m\u001b[1;36m1\u001b[0m\u001b[1;33m,\u001b[0m\u001b[1;36m300\u001b[0m\u001b[1;33m)\u001b[0m\u001b[1;33m,\u001b[0m\u001b[0mdtype\u001b[0m\u001b[1;33m=\u001b[0m\u001b[0mnp\u001b[0m\u001b[1;33m.\u001b[0m\u001b[0mfloat32\u001b[0m\u001b[1;33m)\u001b[0m\u001b[1;33m\u001b[0m\u001b[1;33m\u001b[0m\u001b[0m\n\u001b[0m\u001b[0;32m      4\u001b[0m \u001b[0mword_vec_path\u001b[0m \u001b[1;33m=\u001b[0m \u001b[1;34mr'D:\\Backup\\ml_data\\GitHub\\ML_Sentiment_analysis\\word2vec_model\\word2vec_model'\u001b[0m\u001b[1;33m\u001b[0m\u001b[1;33m\u001b[0m\u001b[0m\n\u001b[0;32m      5\u001b[0m \u001b[0mword_vec_model\u001b[0m \u001b[1;33m=\u001b[0m \u001b[0mword2vec\u001b[0m\u001b[1;33m.\u001b[0m\u001b[0mWord2Vec\u001b[0m\u001b[1;33m.\u001b[0m\u001b[0mload\u001b[0m\u001b[1;33m(\u001b[0m\u001b[0mword_vec_path\u001b[0m\u001b[1;33m)\u001b[0m\u001b[1;33m\u001b[0m\u001b[1;33m\u001b[0m\u001b[0m\n",
      "\u001b[1;31mNameError\u001b[0m: name 'np' is not defined"
     ]
    }
   ],
   "source": [
    "from gensim.models import word2vec\n",
    "import logging\n",
    "padding = np.zeros((1,300),dtype=np.float32)\n",
    "word_vec_path = r'D:\\Backup\\ml_data\\GitHub\\ML_Sentiment_analysis\\word2vec_model\\word2vec_model'\n",
    "word_vec_model = word2vec.Word2Vec.load(word_vec_path)\n",
    "pred = predict(h0,c0,word_vec_model,padding)"
   ]
  },
  {
   "cell_type": "code",
   "execution_count": 24,
   "metadata": {},
   "outputs": [
    {
     "data": {
      "text/plain": [
       "tensor([[0.2097, 0.7927]], device='cuda:0', grad_fn=<AddmmBackward>)"
      ]
     },
     "execution_count": 24,
     "metadata": {},
     "output_type": "execute_result"
    }
   ],
   "source": [
    "pred.input_to_robot('非常好，很親切')"
   ]
  },
  {
   "cell_type": "code",
   "execution_count": null,
   "metadata": {},
   "outputs": [],
   "source": []
  }
 ],
 "metadata": {
  "kernelspec": {
   "display_name": "Python 3",
   "language": "python",
   "name": "python3"
  },
  "language_info": {
   "codemirror_mode": {
    "name": "ipython",
    "version": 3
   },
   "file_extension": ".py",
   "mimetype": "text/x-python",
   "name": "python",
   "nbconvert_exporter": "python",
   "pygments_lexer": "ipython3",
   "version": "3.6.8"
  }
 },
 "nbformat": 4,
 "nbformat_minor": 2
}

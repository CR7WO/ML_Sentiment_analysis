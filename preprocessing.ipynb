{
 "cells": [
  {
   "cell_type": "code",
   "execution_count": 1,
   "metadata": {},
   "outputs": [
    {
     "name": "stderr",
     "output_type": "stream",
     "text": [
      "Building prefix dict from D:\\ml_data\\GitHub\\sentiment_analysis\\jieba_dict\\dict.txt.big ...\n",
      "2019-03-14 19:59:45,154 : DEBUG : Building prefix dict from D:\\ml_data\\GitHub\\sentiment_analysis\\jieba_dict\\dict.txt.big ...\n",
      "Dumping model to file cache C:\\Users\\Jhin\\AppData\\Local\\Temp\\jieba.u8287784a2706ef89a29757b449329c77.cache\n",
      "2019-03-14 19:59:46,283 : DEBUG : Dumping model to file cache C:\\Users\\Jhin\\AppData\\Local\\Temp\\jieba.u8287784a2706ef89a29757b449329c77.cache\n",
      "Loading model cost 1.264 seconds.\n",
      "2019-03-14 19:59:46,419 : DEBUG : Loading model cost 1.264 seconds.\n",
      "Prefix dict has been built succesfully.\n",
      "2019-03-14 19:59:46,420 : DEBUG : Prefix dict has been built succesfully.\n",
      "Building prefix dict from D:\\ml_data\\GitHub\\sentiment_analysis\\jieba_dict\\dict.txt.big ...\n",
      "2019-03-14 19:59:46,935 : DEBUG : Building prefix dict from D:\\ml_data\\GitHub\\sentiment_analysis\\jieba_dict\\dict.txt.big ...\n",
      "Loading model from cache C:\\Users\\Jhin\\AppData\\Local\\Temp\\jieba.u8287784a2706ef89a29757b449329c77.cache\n",
      "2019-03-14 19:59:46,937 : DEBUG : Loading model from cache C:\\Users\\Jhin\\AppData\\Local\\Temp\\jieba.u8287784a2706ef89a29757b449329c77.cache\n",
      "Loading model cost 0.996 seconds.\n",
      "2019-03-14 19:59:47,932 : DEBUG : Loading model cost 0.996 seconds.\n",
      "Prefix dict has been built succesfully.\n",
      "2019-03-14 19:59:47,933 : DEBUG : Prefix dict has been built succesfully.\n"
     ]
    }
   ],
   "source": [
    "from ML_utils import ML_utils\n",
    "from ML_utils import ML_NLP_utlis\n",
    "import shutil\n",
    "import os\n",
    "import logging\n",
    "data_pos_dir_path = r'D:\\ml_data\\Data_set\\NLP\\sentiment_analysis\\utf-8\\2000\\2000\\pos'\n",
    "data_neg_dir_path = r'D:\\ml_data\\Data_set\\NLP\\sentiment_analysis\\utf-8\\2000\\2000\\neg'\n",
    "data_pos_list = ML_utils.merge_dir_file(data_pos_dir_path,save_name='merge_pos.txt',add_line_Feed=True,file_remove_LR=True)\n",
    "data_neg_list = ML_utils.merge_dir_file(data_neg_dir_path,save_name='merge_neg.txt',add_line_Feed=True,file_remove_LR=True)\n",
    "dir_path = r'D:\\ml_data\\GitHub\\sentiment_analysis\\Dataset'\n",
    "shutil.move(os.path.join(data_pos_dir_path,'merge_pos.txt'), os.path.join(dir_path,'merge_pos.txt'))\n",
    "shutil.move(os.path.join(data_neg_dir_path,'merge_neg.txt'), os.path.join(dir_path,'merge_neg.txt'))\n",
    "ML_utils.dir_file_call_function(dir_path,ML_utils.file_remove_repeat_row, replace_old=True)\n",
    "ML_utils.dir_file_call_function(dir_path, ML_NLP_utlis.file_to_opencc, replace_old=True)\n",
    "ML_utils.dir_file_call_function(dir_path, ML_NLP_utlis.jieba_file_segmentation, replace_old=True)"
   ]
  },
  {
   "cell_type": "code",
   "execution_count": 4,
   "metadata": {},
   "outputs": [
    {
     "data": {
      "text/plain": [
       "[[], []]"
      ]
     },
     "execution_count": 4,
     "metadata": {},
     "output_type": "execute_result"
    }
   ],
   "source": [
    "ML_utils.get_dir_file_list(dir_path,distinguish=True)"
   ]
  }
 ],
 "metadata": {
  "kernelspec": {
   "display_name": "Python 3",
   "language": "python",
   "name": "python3"
  },
  "language_info": {
   "codemirror_mode": {
    "name": "ipython",
    "version": 3
   },
   "file_extension": ".py",
   "mimetype": "text/x-python",
   "name": "python",
   "nbconvert_exporter": "python",
   "pygments_lexer": "ipython3",
   "version": "3.6.8"
  }
 },
 "nbformat": 4,
 "nbformat_minor": 2
}

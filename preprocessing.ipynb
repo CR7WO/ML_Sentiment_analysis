{
 "cells": [
  {
   "cell_type": "code",
   "execution_count": 1,
   "metadata": {},
   "outputs": [
    {
     "name": "stderr",
     "output_type": "stream",
     "text": [
      "Building prefix dict from D:\\Backup\\ml_data\\GitHub\\ML_Sentiment_analysis\\jieba_dict\\dict.txt.big ...\n",
      "2019-03-17 01:56:50,797 : DEBUG : Building prefix dict from D:\\Backup\\ml_data\\GitHub\\ML_Sentiment_analysis\\jieba_dict\\dict.txt.big ...\n",
      "Loading model from cache C:\\Users\\Jhin\\AppData\\Local\\Temp\\jieba.u42f3f9c5c0e4d01e6f1546a8b76b0551.cache\n",
      "2019-03-17 01:56:50,801 : DEBUG : Loading model from cache C:\\Users\\Jhin\\AppData\\Local\\Temp\\jieba.u42f3f9c5c0e4d01e6f1546a8b76b0551.cache\n",
      "Loading model cost 0.982 seconds.\n",
      "2019-03-17 01:56:51,783 : DEBUG : Loading model cost 0.982 seconds.\n",
      "Prefix dict has been built succesfully.\n",
      "2019-03-17 01:56:51,784 : DEBUG : Prefix dict has been built succesfully.\n",
      "Building prefix dict from D:\\Backup\\ml_data\\GitHub\\ML_Sentiment_analysis\\jieba_dict\\dict.txt.big ...\n",
      "2019-03-17 01:56:52,060 : DEBUG : Building prefix dict from D:\\Backup\\ml_data\\GitHub\\ML_Sentiment_analysis\\jieba_dict\\dict.txt.big ...\n",
      "Loading model from cache C:\\Users\\Jhin\\AppData\\Local\\Temp\\jieba.u42f3f9c5c0e4d01e6f1546a8b76b0551.cache\n",
      "2019-03-17 01:56:52,061 : DEBUG : Loading model from cache C:\\Users\\Jhin\\AppData\\Local\\Temp\\jieba.u42f3f9c5c0e4d01e6f1546a8b76b0551.cache\n",
      "Loading model cost 1.000 seconds.\n",
      "2019-03-17 01:56:53,061 : DEBUG : Loading model cost 1.000 seconds.\n",
      "Prefix dict has been built succesfully.\n",
      "2019-03-17 01:56:53,062 : DEBUG : Prefix dict has been built succesfully.\n",
      "Building prefix dict from D:\\Backup\\ml_data\\GitHub\\ML_Sentiment_analysis\\jieba_dict\\dict.txt.big ...\n",
      "2019-03-17 01:56:53,312 : DEBUG : Building prefix dict from D:\\Backup\\ml_data\\GitHub\\ML_Sentiment_analysis\\jieba_dict\\dict.txt.big ...\n",
      "Loading model from cache C:\\Users\\Jhin\\AppData\\Local\\Temp\\jieba.u42f3f9c5c0e4d01e6f1546a8b76b0551.cache\n",
      "2019-03-17 01:56:53,313 : DEBUG : Loading model from cache C:\\Users\\Jhin\\AppData\\Local\\Temp\\jieba.u42f3f9c5c0e4d01e6f1546a8b76b0551.cache\n",
      "Loading model cost 1.012 seconds.\n",
      "2019-03-17 01:56:54,325 : DEBUG : Loading model cost 1.012 seconds.\n",
      "Prefix dict has been built succesfully.\n",
      "2019-03-17 01:56:54,326 : DEBUG : Prefix dict has been built succesfully.\n",
      "Building prefix dict from D:\\Backup\\ml_data\\GitHub\\ML_Sentiment_analysis\\jieba_dict\\dict.txt.big ...\n",
      "2019-03-17 01:56:55,888 : DEBUG : Building prefix dict from D:\\Backup\\ml_data\\GitHub\\ML_Sentiment_analysis\\jieba_dict\\dict.txt.big ...\n",
      "Loading model from cache C:\\Users\\Jhin\\AppData\\Local\\Temp\\jieba.u42f3f9c5c0e4d01e6f1546a8b76b0551.cache\n",
      "2019-03-17 01:56:55,890 : DEBUG : Loading model from cache C:\\Users\\Jhin\\AppData\\Local\\Temp\\jieba.u42f3f9c5c0e4d01e6f1546a8b76b0551.cache\n",
      "Loading model cost 1.014 seconds.\n",
      "2019-03-17 01:56:56,903 : DEBUG : Loading model cost 1.014 seconds.\n",
      "Prefix dict has been built succesfully.\n",
      "2019-03-17 01:56:56,905 : DEBUG : Prefix dict has been built succesfully.\n",
      "Building prefix dict from D:\\Backup\\ml_data\\GitHub\\ML_Sentiment_analysis\\jieba_dict\\dict.txt.big ...\n",
      "2019-03-17 01:56:57,862 : DEBUG : Building prefix dict from D:\\Backup\\ml_data\\GitHub\\ML_Sentiment_analysis\\jieba_dict\\dict.txt.big ...\n",
      "Loading model from cache C:\\Users\\Jhin\\AppData\\Local\\Temp\\jieba.u42f3f9c5c0e4d01e6f1546a8b76b0551.cache\n",
      "2019-03-17 01:56:57,864 : DEBUG : Loading model from cache C:\\Users\\Jhin\\AppData\\Local\\Temp\\jieba.u42f3f9c5c0e4d01e6f1546a8b76b0551.cache\n",
      "Loading model cost 1.026 seconds.\n",
      "2019-03-17 01:56:58,890 : DEBUG : Loading model cost 1.026 seconds.\n",
      "Prefix dict has been built succesfully.\n",
      "2019-03-17 01:56:58,891 : DEBUG : Prefix dict has been built succesfully.\n"
     ]
    }
   ],
   "source": [
    "from ML_utils import ML_utils\n",
    "import shutil\n",
    "import os\n",
    "import numpy as np\n",
    "from gensim.models import word2vec\n",
    "\n",
    "#從Dateset合併資料\n",
    "data_pos_dir_path = r'D:\\Backup\\ml_data\\Data_set\\NLP\\sentiment_analysis\\utf-8\\6000\\6000\\pos'\n",
    "data_neg_dir_path = r'D:\\Backup\\ml_data\\Data_set\\NLP\\sentiment_analysis\\utf-8\\6000\\6000\\neg'\n",
    "data_pos_list = ML_utils.Merge_dir_file(data_pos_dir_path,save_name='merge_pos.txt',add_line_Feed=True,file_remove_LR=True)\n",
    "data_neg_list = ML_utils.Merge_dir_file(data_neg_dir_path,save_name='merge_neg.txt',add_line_Feed=True,file_remove_LR=True)\n",
    "#移至專案\n",
    "dir_path = r'D:\\Backup\\ml_data\\GitHub\\ML_Sentiment_analysis\\Dataset'\n",
    "shutil.move(os.path.join(data_pos_dir_path,'merge_pos.txt'), os.path.join(dir_path,'merge_pos.txt'))\n",
    "shutil.move(os.path.join(data_neg_dir_path,'merge_neg.txt'), os.path.join(dir_path,'merge_neg.txt'))\n",
    "#前處理\n",
    "ML_utils.CallF_DirFile_save(dir_path, ML_utils.Remove_file_repeat_row, replace_old=True)\n",
    "ML_utils.CallF_DirFile_save(dir_path, ML_utils.Opencc_file, replace_old=True)\n",
    "ML_utils.CallF_DirFile_save(dir_path, ML_utils.Jieba_file_segmentation, replace_old=True)\n",
    "ML_utils.CallF_DirFile_save(dir_path, ML_utils.Filter_file_wlen,replace_old=False, regular=True,file_filter_='^merge',\n",
    "                                max_word_num=60,file_head_name='cut_')\n",
    "ML_utils.CallF_DirFile_save(dir_path, ML_utils.Trim_file_rows,replace_old=True,\n",
    "                                file_filter_='cut_',row_num=1000)\n",
    "sentiment_2_daat = ML_utils.Merge_dir_file(dir_path,save_name='sentiment_2_daat.txt',\n",
    "                                           add_line_Feed=False,file_remove_LR=False,file_filter_='cut_')"
   ]
  },
  {
   "cell_type": "code",
   "execution_count": 2,
   "metadata": {},
   "outputs": [
    {
     "name": "stderr",
     "output_type": "stream",
     "text": [
      "2019-03-17 01:57:03,956 : INFO : loading Word2Vec object from D:\\Backup\\ml_data\\GitHub\\ML_Sentiment_analysis\\word2vec_model\\word2vec_model\n",
      "2019-03-17 01:57:05,500 : INFO : loading wv recursively from D:\\Backup\\ml_data\\GitHub\\ML_Sentiment_analysis\\word2vec_model\\word2vec_model.wv.* with mmap=None\n",
      "2019-03-17 01:57:05,501 : INFO : loading vectors from D:\\Backup\\ml_data\\GitHub\\ML_Sentiment_analysis\\word2vec_model\\word2vec_model.wv.vectors.npy with mmap=None\n",
      "2019-03-17 01:57:05,876 : INFO : setting ignored attribute vectors_norm to None\n",
      "2019-03-17 01:57:05,877 : INFO : loading vocabulary recursively from D:\\Backup\\ml_data\\GitHub\\ML_Sentiment_analysis\\word2vec_model\\word2vec_model.vocabulary.* with mmap=None\n",
      "2019-03-17 01:57:05,877 : INFO : loading trainables recursively from D:\\Backup\\ml_data\\GitHub\\ML_Sentiment_analysis\\word2vec_model\\word2vec_model.trainables.* with mmap=None\n",
      "2019-03-17 01:57:05,878 : INFO : loading syn1neg from D:\\Backup\\ml_data\\GitHub\\ML_Sentiment_analysis\\word2vec_model\\word2vec_model.trainables.syn1neg.npy with mmap=None\n",
      "2019-03-17 01:57:06,240 : INFO : setting ignored attribute cum_table to None\n",
      "2019-03-17 01:57:06,242 : INFO : loaded D:\\Backup\\ml_data\\GitHub\\ML_Sentiment_analysis\\word2vec_model\\word2vec_model\n"
     ]
    }
   ],
   "source": [
    "#轉成list，長度不足填補0\n",
    "line_list = ML_utils.CallF_DirFile(dir_path,ML_utils.WordToList_file,max_word_num=60,padding=0,file_filter_='sentiment')[0]\n",
    "#載入word2vec模型\n",
    "model_path = r'D:\\Backup\\ml_data\\GitHub\\ML_Sentiment_analysis\\word2vec_model\\word2vec_model'\n",
    "model = word2vec.Word2Vec.load(model_path)\n",
    "#vec_padding\n",
    "vec_padding = np.zeros((1,300),np.float32)\n",
    "ML_utils.ToVec_list_save(line_list,os.path.join(dir_path,'vec_x_neg1000_pos1000'),\n",
    "                         model,vec_padding,word_padding=0,word_padding_vec=vec_padding)\n",
    "y = np.concatenate( (np.full(1000,0),np.full(1000,1)) )\n",
    "np.save(os.path.join(dir_path,'vec_y_neg1000_pos1000'),y)"
   ]
  },
  {
   "cell_type": "code",
   "execution_count": null,
   "metadata": {},
   "outputs": [],
   "source": []
  }
 ],
 "metadata": {
  "kernelspec": {
   "display_name": "Python 3",
   "language": "python",
   "name": "python3"
  },
  "language_info": {
   "codemirror_mode": {
    "name": "ipython",
    "version": 3
   },
   "file_extension": ".py",
   "mimetype": "text/x-python",
   "name": "python",
   "nbconvert_exporter": "python",
   "pygments_lexer": "ipython3",
   "version": "3.6.8"
  }
 },
 "nbformat": 4,
 "nbformat_minor": 2
}

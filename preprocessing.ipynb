{
 "cells": [
  {
   "cell_type": "code",
   "execution_count": 1,
   "metadata": {},
   "outputs": [
    {
     "name": "stderr",
     "output_type": "stream",
     "text": [
      "Building prefix dict from D:\\Backup\\ml_data\\GitHub\\ML_Sentiment_analysis\\jieba_dict\\dict.txt.big ...\n",
      "2019-03-17 18:25:43,554 : DEBUG : Building prefix dict from D:\\Backup\\ml_data\\GitHub\\ML_Sentiment_analysis\\jieba_dict\\dict.txt.big ...\n",
      "Loading model from cache C:\\Users\\Jhin\\AppData\\Local\\Temp\\jieba.u42f3f9c5c0e4d01e6f1546a8b76b0551.cache\n",
      "2019-03-17 18:25:43,558 : DEBUG : Loading model from cache C:\\Users\\Jhin\\AppData\\Local\\Temp\\jieba.u42f3f9c5c0e4d01e6f1546a8b76b0551.cache\n",
      "Loading model cost 0.966 seconds.\n",
      "2019-03-17 18:25:44,523 : DEBUG : Loading model cost 0.966 seconds.\n",
      "Prefix dict has been built succesfully.\n",
      "2019-03-17 18:25:44,524 : DEBUG : Prefix dict has been built succesfully.\n",
      "Building prefix dict from D:\\Backup\\ml_data\\GitHub\\ML_Sentiment_analysis\\jieba_dict\\dict.txt.big ...\n",
      "2019-03-17 18:25:47,141 : DEBUG : Building prefix dict from D:\\Backup\\ml_data\\GitHub\\ML_Sentiment_analysis\\jieba_dict\\dict.txt.big ...\n",
      "Loading model from cache C:\\Users\\Jhin\\AppData\\Local\\Temp\\jieba.u42f3f9c5c0e4d01e6f1546a8b76b0551.cache\n",
      "2019-03-17 18:25:47,143 : DEBUG : Loading model from cache C:\\Users\\Jhin\\AppData\\Local\\Temp\\jieba.u42f3f9c5c0e4d01e6f1546a8b76b0551.cache\n",
      "Loading model cost 1.001 seconds.\n",
      "2019-03-17 18:25:48,144 : DEBUG : Loading model cost 1.001 seconds.\n",
      "Prefix dict has been built succesfully.\n",
      "2019-03-17 18:25:48,145 : DEBUG : Prefix dict has been built succesfully.\n"
     ]
    }
   ],
   "source": [
    "from ML_utils import ML_utils\n",
    "import shutil\n",
    "import os\n",
    "import numpy as np\n",
    "from gensim.models import word2vec\n",
    "import pandas as pd\n",
    "#從Dateset合併資料\n",
    "data_pos_dir_path = r'D:\\Backup\\ml_data\\Data_set\\NLP\\sentiment_analysis\\utf-8\\6000\\6000\\pos'\n",
    "data_neg_dir_path = r'D:\\Backup\\ml_data\\Data_set\\NLP\\sentiment_analysis\\utf-8\\6000\\6000\\neg'\n",
    "ML_utils.Merge_dir_file(data_pos_dir_path,save_name='merge_hotel_pos.txt',regular=True,file_filter_='^pos',\n",
    "                                        add_line_Feed=True,file_remove_LR=True)\n",
    "ML_utils.Merge_dir_file(data_neg_dir_path,save_name='merge_hotel_neg.txt',regular=True,file_filter_='^neg',\n",
    "                                        add_line_Feed=True,file_remove_LR=True)\n",
    "ML_utils.Merge_dir_file(data_pos_dir_path,save_name='merge_pos.txt',regular=True,file_filter_='^merge',\n",
    "                                        add_line_Feed=False,file_remove_LR=False)\n",
    "ML_utils.Merge_dir_file(data_neg_dir_path,save_name='merge_neg.txt',regular=True,file_filter_='^merge',\n",
    "                                        add_line_Feed=False,file_remove_LR=False)\n",
    "#移至專案\n",
    "dir_path = r'D:\\Backup\\ml_data\\GitHub\\ML_Sentiment_analysis\\Dataset'\n",
    "shutil.move(os.path.join(data_pos_dir_path,'merge_pos.txt'), os.path.join(dir_path,'merge_pos.txt'))\n",
    "shutil.move(os.path.join(data_neg_dir_path,'merge_neg.txt'), os.path.join(dir_path,'merge_neg.txt'))\n",
    "#前處理\n",
    "ML_utils.CallF_DirFile_save(dir_path, ML_utils.Remove_file_repeat_row, replace_old=True)\n",
    "ML_utils.CallF_DirFile_save(dir_path, ML_utils.Opencc_file, replace_old=True)\n",
    "ML_utils.CallF_DirFile_save(dir_path, ML_utils.Jieba_file_segmentation, replace_old=True)\n",
    "ML_utils.CallF_DirFile_save(dir_path, ML_utils.Filter_file_wlen,replace_old=False, regular=True,file_filter_='^merge',\n",
    "                                max_word_num=60,file_head_name='cut_')\n",
    "ML_utils.CallF_DirFile_save(dir_path, ML_utils.Shuffle_file,replace_old=True, regular=True,file_filter_='^cut_')\n",
    "ML_utils.CallF_DirFile_save(dir_path, ML_utils.Trim_file_rows,replace_old=True,\n",
    "                                file_filter_='cut_',row_num=2000)\n",
    "sentiment_2_daat = ML_utils.Merge_dir_file(dir_path,save_name='sentiment_2_daat.txt',\n",
    "                                           add_line_Feed=False,file_remove_LR=False,file_filter_='cut_')"
   ]
  },
  {
   "cell_type": "code",
   "execution_count": 2,
   "metadata": {},
   "outputs": [
    {
     "name": "stderr",
     "output_type": "stream",
     "text": [
      "2019-03-17 18:26:03,331 : INFO : loading Word2Vec object from D:\\Backup\\ml_data\\GitHub\\ML_Sentiment_analysis\\word2vec_model\\word2vec_model\n",
      "2019-03-17 18:26:04,793 : INFO : loading wv recursively from D:\\Backup\\ml_data\\GitHub\\ML_Sentiment_analysis\\word2vec_model\\word2vec_model.wv.* with mmap=None\n",
      "2019-03-17 18:26:04,794 : INFO : loading vectors from D:\\Backup\\ml_data\\GitHub\\ML_Sentiment_analysis\\word2vec_model\\word2vec_model.wv.vectors.npy with mmap=None\n",
      "2019-03-17 18:26:05,126 : INFO : setting ignored attribute vectors_norm to None\n",
      "2019-03-17 18:26:05,127 : INFO : loading vocabulary recursively from D:\\Backup\\ml_data\\GitHub\\ML_Sentiment_analysis\\word2vec_model\\word2vec_model.vocabulary.* with mmap=None\n",
      "2019-03-17 18:26:05,127 : INFO : loading trainables recursively from D:\\Backup\\ml_data\\GitHub\\ML_Sentiment_analysis\\word2vec_model\\word2vec_model.trainables.* with mmap=None\n",
      "2019-03-17 18:26:05,128 : INFO : loading syn1neg from D:\\Backup\\ml_data\\GitHub\\ML_Sentiment_analysis\\word2vec_model\\word2vec_model.trainables.syn1neg.npy with mmap=None\n",
      "2019-03-17 18:26:05,453 : INFO : setting ignored attribute cum_table to None\n",
      "2019-03-17 18:26:05,454 : INFO : loaded D:\\Backup\\ml_data\\GitHub\\ML_Sentiment_analysis\\word2vec_model\\word2vec_model\n"
     ]
    }
   ],
   "source": [
    "#轉成list，長度不足填補0\n",
    "x = ML_utils.CallF_DirFile(dir_path,ML_utils.WordToList_file,max_word_num=60,padding=0,file_filter_='sentiment')[0]\n",
    "#載入word2vec模型\n",
    "model_path = r'D:\\Backup\\ml_data\\GitHub\\ML_Sentiment_analysis\\word2vec_model\\word2vec_model'\n",
    "model = word2vec.Word2Vec.load(model_path)\n",
    "#vec_padding\n",
    "vec_padding = np.zeros((1,300),np.float32)\n",
    "ML_utils.ToVec_list_save(x,os.path.join(dir_path,'vec_x_neg2000_pos2000'),\n",
    "                         model,vec_padding,word_padding=0,word_padding_vec=vec_padding)\n",
    "y = np.concatenate( (np.full(2000,0),np.full(2000,1)) )\n",
    "y = pd.Series(y)\n",
    "y_one_hot_encoding = pd.get_dummies(y)\n",
    "y_one_hot_encoding = y_one_hot_encoding.to_numpy().astype(np.float32)\n",
    "np.save(os.path.join(dir_path,'vec_y_neg2000_pos2000'),y_one_hot_encoding)"
   ]
  },
  {
   "cell_type": "code",
   "execution_count": null,
   "metadata": {},
   "outputs": [],
   "source": []
  }
 ],
 "metadata": {
  "kernelspec": {
   "display_name": "Python 3",
   "language": "python",
   "name": "python3"
  },
  "language_info": {
   "codemirror_mode": {
    "name": "ipython",
    "version": 3
   },
   "file_extension": ".py",
   "mimetype": "text/x-python",
   "name": "python",
   "nbconvert_exporter": "python",
   "pygments_lexer": "ipython3",
   "version": "3.6.8"
  }
 },
 "nbformat": 4,
 "nbformat_minor": 2
}

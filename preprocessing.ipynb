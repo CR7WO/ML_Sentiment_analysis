{
 "cells": [
  {
   "cell_type": "code",
   "execution_count": 1,
   "metadata": {},
   "outputs": [
    {
     "name": "stderr",
     "output_type": "stream",
     "text": [
      "Building prefix dict from D:\\Backup\\ml_data\\GitHub\\ML_Sentiment_analysis\\jieba_dict\\dict.txt.big ...\n",
      "2019-03-16 15:45:17,456 : DEBUG : Building prefix dict from D:\\Backup\\ml_data\\GitHub\\ML_Sentiment_analysis\\jieba_dict\\dict.txt.big ...\n",
      "Loading model from cache C:\\Users\\Jhin\\AppData\\Local\\Temp\\jieba.u42f3f9c5c0e4d01e6f1546a8b76b0551.cache\n",
      "2019-03-16 15:45:17,460 : DEBUG : Loading model from cache C:\\Users\\Jhin\\AppData\\Local\\Temp\\jieba.u42f3f9c5c0e4d01e6f1546a8b76b0551.cache\n",
      "Loading model cost 1.019 seconds.\n",
      "2019-03-16 15:45:18,477 : DEBUG : Loading model cost 1.019 seconds.\n",
      "Prefix dict has been built succesfully.\n",
      "2019-03-16 15:45:18,478 : DEBUG : Prefix dict has been built succesfully.\n",
      "Building prefix dict from D:\\Backup\\ml_data\\GitHub\\ML_Sentiment_analysis\\jieba_dict\\dict.txt.big ...\n",
      "2019-03-16 15:45:18,747 : DEBUG : Building prefix dict from D:\\Backup\\ml_data\\GitHub\\ML_Sentiment_analysis\\jieba_dict\\dict.txt.big ...\n",
      "Loading model from cache C:\\Users\\Jhin\\AppData\\Local\\Temp\\jieba.u42f3f9c5c0e4d01e6f1546a8b76b0551.cache\n",
      "2019-03-16 15:45:18,748 : DEBUG : Loading model from cache C:\\Users\\Jhin\\AppData\\Local\\Temp\\jieba.u42f3f9c5c0e4d01e6f1546a8b76b0551.cache\n",
      "Loading model cost 1.028 seconds.\n",
      "2019-03-16 15:45:19,776 : DEBUG : Loading model cost 1.028 seconds.\n",
      "Prefix dict has been built succesfully.\n",
      "2019-03-16 15:45:19,777 : DEBUG : Prefix dict has been built succesfully.\n",
      "Building prefix dict from D:\\Backup\\ml_data\\GitHub\\ML_Sentiment_analysis\\jieba_dict\\dict.txt.big ...\n",
      "2019-03-16 15:45:20,044 : DEBUG : Building prefix dict from D:\\Backup\\ml_data\\GitHub\\ML_Sentiment_analysis\\jieba_dict\\dict.txt.big ...\n",
      "Loading model from cache C:\\Users\\Jhin\\AppData\\Local\\Temp\\jieba.u42f3f9c5c0e4d01e6f1546a8b76b0551.cache\n",
      "2019-03-16 15:45:20,046 : DEBUG : Loading model from cache C:\\Users\\Jhin\\AppData\\Local\\Temp\\jieba.u42f3f9c5c0e4d01e6f1546a8b76b0551.cache\n",
      "Loading model cost 1.008 seconds.\n",
      "2019-03-16 15:45:21,055 : DEBUG : Loading model cost 1.008 seconds.\n",
      "Prefix dict has been built succesfully.\n",
      "2019-03-16 15:45:21,057 : DEBUG : Prefix dict has been built succesfully.\n",
      "Building prefix dict from D:\\Backup\\ml_data\\GitHub\\ML_Sentiment_analysis\\jieba_dict\\dict.txt.big ...\n",
      "2019-03-16 15:45:22,628 : DEBUG : Building prefix dict from D:\\Backup\\ml_data\\GitHub\\ML_Sentiment_analysis\\jieba_dict\\dict.txt.big ...\n",
      "Loading model from cache C:\\Users\\Jhin\\AppData\\Local\\Temp\\jieba.u42f3f9c5c0e4d01e6f1546a8b76b0551.cache\n",
      "2019-03-16 15:45:22,630 : DEBUG : Loading model from cache C:\\Users\\Jhin\\AppData\\Local\\Temp\\jieba.u42f3f9c5c0e4d01e6f1546a8b76b0551.cache\n",
      "Loading model cost 1.027 seconds.\n",
      "2019-03-16 15:45:23,657 : DEBUG : Loading model cost 1.027 seconds.\n",
      "Prefix dict has been built succesfully.\n",
      "2019-03-16 15:45:23,658 : DEBUG : Prefix dict has been built succesfully.\n",
      "Building prefix dict from D:\\Backup\\ml_data\\GitHub\\ML_Sentiment_analysis\\jieba_dict\\dict.txt.big ...\n",
      "2019-03-16 15:45:24,645 : DEBUG : Building prefix dict from D:\\Backup\\ml_data\\GitHub\\ML_Sentiment_analysis\\jieba_dict\\dict.txt.big ...\n",
      "Loading model from cache C:\\Users\\Jhin\\AppData\\Local\\Temp\\jieba.u42f3f9c5c0e4d01e6f1546a8b76b0551.cache\n",
      "2019-03-16 15:45:24,647 : DEBUG : Loading model from cache C:\\Users\\Jhin\\AppData\\Local\\Temp\\jieba.u42f3f9c5c0e4d01e6f1546a8b76b0551.cache\n",
      "Loading model cost 1.056 seconds.\n",
      "2019-03-16 15:45:25,702 : DEBUG : Loading model cost 1.056 seconds.\n",
      "Prefix dict has been built succesfully.\n",
      "2019-03-16 15:45:25,703 : DEBUG : Prefix dict has been built succesfully.\n",
      "Building prefix dict from D:\\Backup\\ml_data\\GitHub\\ML_Sentiment_analysis\\jieba_dict\\dict.txt.big ...\n",
      "2019-03-16 15:45:25,712 : DEBUG : Building prefix dict from D:\\Backup\\ml_data\\GitHub\\ML_Sentiment_analysis\\jieba_dict\\dict.txt.big ...\n",
      "Loading model from cache C:\\Users\\Jhin\\AppData\\Local\\Temp\\jieba.u42f3f9c5c0e4d01e6f1546a8b76b0551.cache\n",
      "2019-03-16 15:45:25,714 : DEBUG : Loading model from cache C:\\Users\\Jhin\\AppData\\Local\\Temp\\jieba.u42f3f9c5c0e4d01e6f1546a8b76b0551.cache\n",
      "Loading model cost 1.105 seconds.\n",
      "2019-03-16 15:45:26,818 : DEBUG : Loading model cost 1.105 seconds.\n",
      "Prefix dict has been built succesfully.\n",
      "2019-03-16 15:45:26,819 : DEBUG : Prefix dict has been built succesfully.\n"
     ]
    }
   ],
   "source": [
    "from ML_utils import ML_utils\n",
    "import shutil\n",
    "import os\n",
    "\n",
    "#從Dateset合併資料\n",
    "data_pos_dir_path = r'D:\\Backup\\ml_data\\Data_set\\NLP\\sentiment_analysis\\utf-8\\6000\\6000\\pos'\n",
    "data_neg_dir_path = r'D:\\Backup\\ml_data\\Data_set\\NLP\\sentiment_analysis\\utf-8\\6000\\6000\\neg'\n",
    "data_pos_list = ML_utils.Merge_dir_file(data_pos_dir_path,save_name='merge_pos.txt',add_line_Feed=True,file_remove_LR=True)\n",
    "data_neg_list = ML_utils.Merge_dir_file(data_neg_dir_path,save_name='merge_neg.txt',add_line_Feed=True,file_remove_LR=True)\n",
    "#移至專案\n",
    "dir_path = r'D:\\Backup\\ml_data\\GitHub\\ML_Sentiment_analysis\\Dataset'\n",
    "shutil.move(os.path.join(data_pos_dir_path,'merge_pos.txt'), os.path.join(dir_path,'merge_pos.txt'))\n",
    "shutil.move(os.path.join(data_neg_dir_path,'merge_neg.txt'), os.path.join(dir_path,'merge_neg.txt'))\n",
    "#前處理\n",
    "ML_utils.CallF_DirFile_save(dir_path, ML_utils.Remove_file_repeat_row, replace_old=True)\n",
    "ML_utils.CallF_DirFile_save(dir_path, ML_utils.Opencc_file, replace_old=True)\n",
    "ML_utils.CallF_DirFile_save(dir_path, ML_utils.Jieba_file_segmentation, replace_old=True)\n",
    "ML_utils.CallF_DirFile_save(dir_path, ML_utils.Filter_file_wlen,replace_old=False, regular=True,filter_='^merge',\n",
    "                                max_word_num=60,file_head_name='cut_')\n",
    "ML_utils.CallF_DirFile_save(dir_path, ML_utils.Trim_file_rows,replace_old=True,\n",
    "                                filter_='cut_',row_num=1000)\n",
    "sentiment_2_daat = ML_utils.Merge_dir_file(dir_path,save_name='sentiment_2_daat.txt',\n",
    "                                           add_line_Feed=False,file_remove_LR=False,filter_='cut_')"
   ]
  },
  {
   "cell_type": "code",
   "execution_count": null,
   "metadata": {},
   "outputs": [],
   "source": []
  }
 ],
 "metadata": {
  "kernelspec": {
   "display_name": "Python 3",
   "language": "python",
   "name": "python3"
  },
  "language_info": {
   "codemirror_mode": {
    "name": "ipython",
    "version": 3
   },
   "file_extension": ".py",
   "mimetype": "text/x-python",
   "name": "python",
   "nbconvert_exporter": "python",
   "pygments_lexer": "ipython3",
   "version": "3.6.8"
  }
 },
 "nbformat": 4,
 "nbformat_minor": 2
}
